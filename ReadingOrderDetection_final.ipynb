{
  "nbformat": 4,
  "nbformat_minor": 0,
  "metadata": {
    "colab": {
      "name": "ReadingOrderDetection_final.ipynb",
      "provenance": [],
      "collapsed_sections": []
    },
    "kernelspec": {
      "name": "python3",
      "display_name": "Python 3"
    },
    "language_info": {
      "name": "python"
    }
  },
  "cells": [
    {
      "cell_type": "code",
      "source": [
        "!pip install wikipedia"
      ],
      "metadata": {
        "id": "xhgCQyXOILZ7"
      },
      "execution_count": null,
      "outputs": []
    },
    {
      "cell_type": "code",
      "execution_count": 76,
      "metadata": {
        "id": "nUZFC2hBNlYM"
      },
      "outputs": [],
      "source": [
        "import numpy as np\n",
        "import pandas as pd\n",
        "from operator import eq\n",
        "import matplotlib.pyplot as plt\n",
        "plt.style.use(style='seaborn')\n",
        "%matplotlib inline"
      ]
    },
    {
      "cell_type": "code",
      "source": [
        "import nltk\n",
        "from nltk.corpus import stopwords\n",
        "nltk.download('stopwords')\n",
        "nltk.download('wordnet')\n",
        "from nltk.stem import WordNetLemmatizer\n",
        " \n",
        "lemmatizer = WordNetLemmatizer()"
      ],
      "metadata": {
        "id": "LvmmK0_EVcsQ"
      },
      "execution_count": null,
      "outputs": []
    },
    {
      "cell_type": "code",
      "source": [
        "#removing punctuations\n",
        "#library that contains punctuation\n",
        "import string\n",
        "string.punctuation\n",
        "!pip install stemming\n",
        "from stemming.porter2 import stem"
      ],
      "metadata": {
        "colab": {
          "base_uri": "https://localhost:8080/"
        },
        "id": "5sk2V54PbSxl",
        "outputId": "8eda78b2-3eb7-4a7b-ff65-a1a814a3066b"
      },
      "execution_count": 78,
      "outputs": [
        {
          "output_type": "stream",
          "name": "stdout",
          "text": [
            "Requirement already satisfied: stemming in /usr/local/lib/python3.7/dist-packages (1.0.1)\n"
          ]
        }
      ]
    },
    {
      "cell_type": "code",
      "source": [
        "#defining the function to remove punctuation\n",
        "def remove_punctuation(text):\n",
        "  if(type(text)==float):\n",
        "    return text\n",
        "  ans=\"\"  \n",
        "  for i in text:     \n",
        "    if i not in string.punctuation:\n",
        "      ans+=i    \n",
        "  return ans"
      ],
      "metadata": {
        "id": "tQm5pgg5beT8"
      },
      "execution_count": 79,
      "outputs": []
    },
    {
      "cell_type": "code",
      "source": [
        "def generate_Ngrams(text,ngram=1):\n",
        "  word1=[word for word in text.split(\" \") if word not in set(stopwords.words('english'))] \n",
        "  words=[] \n",
        "  for i in word1:\n",
        "    words.append(lemmatizer.lemmatize(stem(i)))\n",
        "\n",
        "  temp=zip(*[words[i:] for i in range(0,ngram)])\n",
        "  ans=[' '.join(ngram) for ngram in temp]\n",
        "  return ans"
      ],
      "metadata": {
        "id": "_-0bMcjnbf1-"
      },
      "execution_count": 80,
      "outputs": []
    },
    {
      "cell_type": "code",
      "source": [
        "import wikipedia\n",
        "result1 = wikipedia.search(\"Neural Networks\")\n",
        "result2 = wikipedia.search(\"guitar\")\n",
        "result3 = wikipedia.search(\"language\")\n",
        "results = result1+result2+result3\n",
        "results.remove('Guitar Hero')\n",
        "results.remove(\"Warr Guitar\")\n",
        "results.remove('Language (magazine)')"
      ],
      "metadata": {
        "id": "tJPa8zbCOM2o"
      },
      "execution_count": 81,
      "outputs": []
    },
    {
      "cell_type": "code",
      "source": [
        "def remove_punctuation(text):\n",
        "  if(type(text)==float):\n",
        "    return text\n",
        "  ans=\"\"  \n",
        "  for i in text:     \n",
        "    if i not in string.punctuation:\n",
        "      ans+=i    \n",
        "  return ans"
      ],
      "metadata": {
        "id": "dt15aSRXTi1O"
      },
      "execution_count": 82,
      "outputs": []
    },
    {
      "cell_type": "code",
      "source": [
        "def calculator(l1):\n",
        "  n=len(l1)\n",
        "  m = np.zeros((n+1,n+1)) # numpy.zeros(shape, dtype = None, order = 'C')\n",
        "  n=len(l1)\n",
        "  for i in range(n):\n",
        "    for j in range(i+1,n):\n",
        "      list1=l1[i]\n",
        "      list2=l1[j]\n",
        "      # print(list1,list2)\n",
        "      c=list(set(list1) & set(list2))\n",
        "      res=len(c)\n",
        "      num=max(len(list1),len(list2))\n",
        "      res = res/num\n",
        "      m[i][j]=res\n",
        "      m[j][i]=res\n",
        "  return m\n",
        "\n",
        "def CalMatrix(final_list):\n",
        "  n=len(final_list)\n",
        "  # print(n)\n",
        "  Ngram_list=[]\n",
        "\n",
        "  for i in final_list:\n",
        "    Ngram_list.append(generate_Ngrams(i,2))\n",
        "    # print(Ngram_list)\n",
        "   \n",
        "  return calculator(Ngram_list)\n"
      ],
      "metadata": {
        "id": "HJOIHDhEUTJl"
      },
      "execution_count": 83,
      "outputs": []
    },
    {
      "cell_type": "code",
      "source": [
        "def pred_order_normal(Matrix):\n",
        "  final_order_lst = [0]\n",
        "  for i in range(Matrix.shape[0]):\n",
        "    sorted_tuples = []\n",
        "    sorted_tuples = sorted(enumerate(Matrix[final_order_lst[-1]]), key = lambda i:i[1])\n",
        "    # print(sorted_tuples)\n",
        "    for elem in sorted_tuples[::-1]:\n",
        "      if elem[0] not in final_order_lst:\n",
        "        final_order_lst.append(elem[0])\n",
        "  return final_order_lst"
      ],
      "metadata": {
        "id": "3cWVnRmuycS4"
      },
      "execution_count": 84,
      "outputs": []
    },
    {
      "cell_type": "code",
      "source": [
        "def get_pred_order_lookahead(Matrix):\n",
        "  final_order_lst = [0]\n",
        "\n",
        "  for i in range(Matrix.shape[0]):\n",
        "\n",
        "    sorted_tuples = []\n",
        "\n",
        "    prob_1 = 0\n",
        "    prob_2 = 0\n",
        "   \n",
        "    sorted_tuples = sorted(enumerate(Matrix[final_order_lst[-1]]), key=lambda i: i[1])\n",
        "   \n",
        "    order_lst1 = final_order_lst.copy()\n",
        "    order_lst2 = final_order_lst.copy()\n",
        "   \n",
        "    for elem in sorted_tuples[::-1]:\n",
        "      if elem[0] not in order_lst1:\n",
        "        order_lst1.append(elem[0])\n",
        "        prob1 = elem[1]\n",
        "        prob_1 = prob1\n",
        "        break\n",
        "\n",
        "    for elem in sorted_tuples[::-1]:\n",
        "      if elem[0] not in order_lst2 and elem[0]!=order_lst1[-1]:\n",
        "        order_lst2.append(elem[0])\n",
        "        prob2 = elem[1]\n",
        "        prob_2 = prob2\n",
        "        break\n",
        "    \n",
        "    sorted_tuples1 = sorted(enumerate(Matrix[order_lst1[-1]]), key = lambda i: i[1])\n",
        "    sorted_tuples2 = sorted(enumerate(Matrix[order_lst2[-1]]), key = lambda i: i[1])\n",
        "\n",
        "    for elem in sorted_tuples1[::-1]:\n",
        "      if elem[0] not in order_lst1:\n",
        "        order_lst1.append(elem[0])\n",
        "        prob11 = elem[1]\n",
        "        prob_1 = prob1*prob11\n",
        "        break\n",
        "\n",
        "    for elem in sorted_tuples2[::-1]:\n",
        "      # if elem[0] not in order_lst2 and elem[0]!=order_lst1[-1]:\n",
        "      if elem[0] not in order_lst2:\n",
        "        order_lst2.append(elem[0])\n",
        "        prob22 = elem[1]\n",
        "        prob_2 = prob2*prob22\n",
        "        break\n",
        "\n",
        "    if prob_1 > prob_2:\n",
        "      final_order_lst = order_lst1[:-1:]\n",
        "\n",
        "    else:\n",
        "      final_order_lst = order_lst2[:-1:]\n",
        "\n",
        "  for i in range(Matrix.shape[0]):\n",
        "    if i not in final_order_lst:\n",
        "      final_order_lst.append(i)\n",
        "      break  \n",
        "  \n",
        "  return final_order_lst"
      ],
      "metadata": {
        "id": "uz95zjIz0UIe"
      },
      "execution_count": 85,
      "outputs": []
    },
    {
      "cell_type": "code",
      "source": [
        "def Ordered_output(final_order_lst,final_content_list):\n",
        "  output_list=[]\n",
        "  for i in final_order_lst:\n",
        "    output_list.append(final_content_list[i])\n",
        "  return output_list"
      ],
      "metadata": {
        "id": "cHKXhfYUjhOw"
      },
      "execution_count": 86,
      "outputs": []
    },
    {
      "cell_type": "code",
      "source": [
        "def accuracy(lst):\n",
        "  total = 0\n",
        "  correct = 0\n",
        "  for i in range(len(lst)-1):\n",
        "    if (lst[i+1] - lst[i] == 1): \n",
        "      correct+=1\n",
        "    # elif (lst[i] - lst[i+1] == 1):\n",
        "    #   correct+=1\n",
        "    total+=1\n",
        "  return correct/total"
      ],
      "metadata": {
        "id": "8VjR68Dch3DK"
      },
      "execution_count": 87,
      "outputs": []
    },
    {
      "cell_type": "code",
      "source": [
        "def PageOrder(result):\n",
        "  sze=len(result)\n",
        "  AccuracyLst=[]\n",
        "\n",
        "  for i in range(sze):\n",
        "    page = wikipedia.page(result[i])\n",
        "    content = page.content\n",
        "    content_list = content.split(\"\\n\")\n",
        "    \n",
        "    final_content_list = []\n",
        "    for j in range (len(content_list)):\n",
        "      if content_list[j] and len(content_list[j].split(\" \")) > 30:\n",
        "        final_content_list.append(content_list[j])\n",
        "\n",
        "    final_list=[]\n",
        "    for j in final_content_list: \n",
        "      final_list.append(remove_punctuation(j))\n",
        "\n",
        "    Matrix=CalMatrix(final_list)\n",
        "\n",
        "    pred_order = get_pred_order_lookahead(Matrix)\n",
        "\n",
        "    Acc_score=accuracy(pred_order)\n",
        "\n",
        "    AccuracyLst.append(Acc_score)\n",
        "    \n",
        "  return AccuracyLst\n"
      ],
      "metadata": {
        "id": "R5ast5nYmq_c"
      },
      "execution_count": 91,
      "outputs": []
    },
    {
      "cell_type": "code",
      "source": [
        "def Average(lst):\n",
        "    return sum(lst) / len(lst)"
      ],
      "metadata": {
        "id": "B8yg7Rh6uLYQ"
      },
      "execution_count": 92,
      "outputs": []
    },
    {
      "cell_type": "code",
      "source": [
        "Alist=PageOrder(results)\n",
        "Average(Alist)"
      ],
      "metadata": {
        "id": "H4CJMQLznnjS"
      },
      "execution_count": null,
      "outputs": []
    }
  ]
}