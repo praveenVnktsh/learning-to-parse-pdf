{
  "cells": [
    {
      "cell_type": "code",
      "execution_count": null,
      "metadata": {
        "id": "qA_PM7UMQ96a"
      },
      "outputs": [],
      "source": [
        "!pip install -U sentence-transformers"
      ]
    },
    {
      "cell_type": "code",
      "execution_count": null,
      "metadata": {
        "id": "kHiKZT-iRaC1"
      },
      "outputs": [],
      "source": [
        "!pip install wikipedia"
      ]
    },
    {
      "cell_type": "code",
      "execution_count": 34,
      "metadata": {
        "id": "cJo8c8cIRd-m"
      },
      "outputs": [],
      "source": [
        "import wikipedia\n",
        "from sklearn.metrics.pairwise import cosine_similarity\n",
        "import numpy as np\n",
        "from sentence_transformers import SentenceTransformer\n",
        "result1 = wikipedia.search(\"Neural Networks\")\n",
        "result2 = wikipedia.search(\"guitar\")\n",
        "result3 = wikipedia.search(\"language\")\n",
        "results = result1+result2+result3\n",
        "\n",
        "results.remove('Guitar Hero')\n",
        "\n",
        "results.remove('Warr Guitar')"
      ]
    },
    {
      "cell_type": "code",
      "execution_count": 35,
      "metadata": {
        "id": "pcd4o81eRtZh"
      },
      "outputs": [],
      "source": [
        "model = SentenceTransformer('paraphrase-MiniLM-L6-v2')"
      ]
    },
    {
      "cell_type": "code",
      "execution_count": 36,
      "metadata": {
        "id": "MMGi4JMVVk64"
      },
      "outputs": [],
      "source": [
        "def create_cosine_matrix(final_content_list):\n",
        "  matrix = []\n",
        "  for para in final_content_list:\n",
        "    embedding = model.encode(para)\n",
        "    matrix.append(embedding)\n",
        "    context_matrix = np.array(matrix)\n",
        "    cos = cosine_similarity(context_matrix)\n",
        "    \n",
        "  for i in range(cos.shape[0]):\n",
        "    for j in range(cos.shape[1]):\n",
        "      if i == j:\n",
        "        cos[i][j] = 0\n",
        "  return cos"
      ]
    },
    {
      "cell_type": "code",
      "execution_count": 37,
      "metadata": {
        "id": "uQSlmCEyYSNm"
      },
      "outputs": [],
      "source": [
        "def get_pred_order(cos):\n",
        "  final_order_lst = [0]\n",
        "  for i in range(cos.shape[0]):\n",
        "    sorted_tuples = []\n",
        "    sorted_tuples = sorted(enumerate(cos[final_order_lst[-1]]), key = lambda i:i[1])\n",
        "    # print(sorted_tuples)\n",
        "    for elem in sorted_tuples[::-1]:\n",
        "      if elem[0] not in final_order_lst:\n",
        "        final_order_lst.append(elem[0])\n",
        "  return final_order_lst"
      ]
    },
    {
      "cell_type": "code",
      "execution_count": 38,
      "metadata": {
        "id": "VPr5dn83ZxoU"
      },
      "outputs": [],
      "source": [
        "def get_pred_order_lookahead(cos):\n",
        "  final_order_lst = [0]\n",
        "\n",
        "  for i in range(cos.shape[0]):\n",
        "\n",
        "    sorted_tuples = []\n",
        "\n",
        "    prob_1 = 0\n",
        "    prob_2 = 0\n",
        "   \n",
        "    sorted_tuples = sorted(enumerate(cos[final_order_lst[-1]]), key=lambda i: i[1])\n",
        "   \n",
        "    order_lst1 = final_order_lst.copy()\n",
        "    order_lst2 = final_order_lst.copy()\n",
        "   \n",
        "    for elem in sorted_tuples[::-1]:\n",
        "      if elem[0] not in order_lst1:\n",
        "        order_lst1.append(elem[0])\n",
        "        prob1 = elem[1]\n",
        "        prob_1 = prob1\n",
        "        break\n",
        "\n",
        "    for elem in sorted_tuples[::-1]:\n",
        "      if elem[0] not in order_lst2 and elem[0]!=order_lst1[-1]:\n",
        "        order_lst2.append(elem[0])\n",
        "        prob2 = elem[1]\n",
        "        prob_2 = prob2\n",
        "        break\n",
        "    \n",
        "    sorted_tuples1 = sorted(enumerate(cos[order_lst1[-1]]), key = lambda i: i[1])\n",
        "    sorted_tuples2 = sorted(enumerate(cos[order_lst2[-1]]), key = lambda i: i[1])\n",
        "\n",
        "    for elem in sorted_tuples1[::-1]:\n",
        "      if elem[0] not in order_lst1:\n",
        "        order_lst1.append(elem[0])\n",
        "        prob11 = elem[1]\n",
        "        prob_1 = prob1*prob11\n",
        "        break\n",
        "\n",
        "    for elem in sorted_tuples2[::-1]:\n",
        "      # if elem[0] not in order_lst2 and elem[0]!=order_lst1[-1]:\n",
        "      if elem[0] not in order_lst2:\n",
        "        order_lst2.append(elem[0])\n",
        "        prob22 = elem[1]\n",
        "        prob_2 = prob2*prob22\n",
        "        break\n",
        "\n",
        "    if prob_1 > prob_2:\n",
        "      final_order_lst = order_lst1[:-1:]\n",
        "\n",
        "    else:\n",
        "      final_order_lst = order_lst2[:-1:]\n",
        "\n",
        "  for i in range(cos.shape[0]):\n",
        "    if i not in final_order_lst:\n",
        "      final_order_lst.append(i)\n",
        "      break  \n",
        "  \n",
        "  return final_order_lst"
      ]
    },
    {
      "cell_type": "code",
      "execution_count": null,
      "metadata": {},
      "outputs": [],
      "source": [
        "def Ordered_output(final_order_lst,final_content_list):\n",
        "    output_list=[]\n",
        "    for i in final_order_lst:\n",
        "        output_list.append(final_content_list[i])\n",
        "    return output_list"
      ]
    },
    {
      "cell_type": "code",
      "execution_count": 39,
      "metadata": {
        "id": "b3zTAa3FaELI"
      },
      "outputs": [],
      "source": [
        "def accuracy(lst):\n",
        "  total = 0\n",
        "  correct = 0\n",
        "  for i in range(len(lst)-1):\n",
        "    if (lst[i+1] - lst[i] == 1):\n",
        "      correct+=1\n",
        "\n",
        "    # if (lst[i] - lst[i+1] == 1):\n",
        "    #   correct+=1\n",
        "\n",
        "    total+=1\n",
        "  return correct/total"
      ]
    },
    {
      "cell_type": "code",
      "execution_count": 47,
      "metadata": {
        "id": "YKCytHY-cl0o"
      },
      "outputs": [],
      "source": [
        "def pred_accuracy(results):\n",
        "  accuracy_lst = []\n",
        "  for result in results:\n",
        "    page = wikipedia.page(result)\n",
        "    content = page.content\n",
        "    content_list = content.split(\"\\n\")\n",
        "\n",
        "    final_content_list = []\n",
        "    for i in range (len(content_list)):\n",
        "      if content_list[i] and len(content_list[i].split(\" \")) > 30:\n",
        "        final_content_list.append(content_list[i])\n",
        "\n",
        "    if len(final_content_list) <= 1:\n",
        "      continue\n",
        "\n",
        "    cos = create_cosine_matrix(final_content_list)\n",
        "\n",
        "    final_order_lst = get_pred_order_lookahead(cos)\n",
        "\n",
        "    accuracy_lst.append(accuracy(final_order_lst))\n",
        "    \n",
        "  return sum(accuracy_lst)/len(accuracy_lst)"
      ]
    },
    {
      "cell_type": "code",
      "execution_count": 48,
      "metadata": {
        "colab": {
          "base_uri": "https://localhost:8080/"
        },
        "id": "4ZFIXLJRduwi",
        "outputId": "367d215a-bcc5-4d90-b777-ac460728a62b"
      },
      "outputs": [
        {
          "data": {
            "text/plain": [
              "0.17506203944860257"
            ]
          },
          "execution_count": 48,
          "metadata": {},
          "output_type": "execute_result"
        }
      ],
      "source": [
        "pred_accuracy(results)"
      ]
    }
  ],
  "metadata": {
    "colab": {
      "collapsed_sections": [],
      "name": "sentence_bert_final.ipynb",
      "provenance": []
    },
    "kernelspec": {
      "display_name": "Python 3",
      "name": "python3"
    },
    "language_info": {
      "name": "python"
    }
  },
  "nbformat": 4,
  "nbformat_minor": 0
}
